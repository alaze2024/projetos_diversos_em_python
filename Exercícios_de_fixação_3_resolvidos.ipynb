{
  "cells": [
    {
      "cell_type": "markdown",
      "metadata": {
        "id": "view-in-github",
        "colab_type": "text"
      },
      "source": [
        "<a href=\"https://colab.research.google.com/github/alaze2024/projetos_diversos_em_python/blob/main/Exerc%C3%ADcios_de_fixa%C3%A7%C3%A3o_3_resolvidos.ipynb\" target=\"_parent\"><img src=\"https://colab.research.google.com/assets/colab-badge.svg\" alt=\"Open In Colab\"/></a>"
      ]
    },
    {
      "cell_type": "markdown",
      "metadata": {
        "id": "vyLGSxGZDLMK"
      },
      "source": [
        "# Exercícios de fixação\n",
        "\n",
        "Os seguintes exercícios se referem ao conteúdo quinzenal de disciplina de Introdução à Computação e Programação."
      ]
    },
    {
      "cell_type": "markdown",
      "metadata": {
        "id": "YHLjVJLMEHFT"
      },
      "source": [
        "1) Escreva um programa para calcular o valor da série de Fibonacci para um número dado de termos. Não use recursão, apenas loops for e/ou while. Exemplo para 5 os valores mostrados são 0, 1, 1, 2 e 3."
      ]
    },
    {
      "cell_type": "code",
      "execution_count": null,
      "metadata": {
        "colab": {
          "base_uri": "https://localhost:8080/"
        },
        "id": "039YHIJAJLcU",
        "outputId": "01603c95-4a00-4fe5-f1fa-669c9868e8f3"
      },
      "outputs": [
        {
          "name": "stdout",
          "output_type": "stream",
          "text": [
            "Entre o numero de termos para a serie fibonacci: 8\n",
            "A serie eh: \n",
            "0\n",
            "1\n",
            "1\n",
            "2\n",
            "3\n",
            "5\n",
            "8\n",
            "13\n"
          ]
        }
      ],
      "source": [
        "first,second=0,1\n",
        "n = int(input(\"Entre o numero de termos para a serie fibonacci: \"))\n",
        "print(\"Os termos da serie sao: \")\n",
        "for i in range(0,n):\n",
        "    if i<=1:\n",
        "        result=i\n",
        "    else:\n",
        "      result = first + second;\n",
        "      first = second;\n",
        "      second = result;\n",
        "    print(result)"
      ]
    },
    {
      "cell_type": "markdown",
      "metadata": {
        "id": "APisv1f-DlaO"
      },
      "source": [
        "2) Criar uma função que recebe uma lista e retorna os itens repetidos. Exemplo: Repetidos([1, 2, 2, 3, 4, 3, 3]) retorna [2, 3]"
      ]
    },
    {
      "cell_type": "code",
      "execution_count": null,
      "metadata": {
        "colab": {
          "base_uri": "https://localhost:8080/"
        },
        "id": "2y-uFE_zF5fr",
        "outputId": "38a903a2-71f4-4b79-a9fd-57186cc343b7"
      },
      "outputs": [
        {
          "name": "stdout",
          "output_type": "stream",
          "text": [
            "[20, 30, -20, 60, 'a']\n"
          ]
        }
      ],
      "source": [
        "def Repetidos(x):\n",
        "    tamanho = len(x)\n",
        "    repetidos = []\n",
        "    for i in range(tamanho):\n",
        "        k = i + 1\n",
        "        for j in range(k, tamanho):\n",
        "            if x[i] == x[j] and x[i] not in repetidos:\n",
        "                repetidos.append(x[i])\n",
        "    return repetidos\n",
        "\n",
        "list1 = [10, 20, 30, 20, 20, 30, 40,\n",
        "         50, -20, 60, 60, -20, -20, 'a', 'a']\n",
        "print (Repetidos(list1))"
      ]
    },
    {
      "cell_type": "markdown",
      "metadata": {
        "id": "RdZa0mVPDwFT"
      },
      "source": [
        "3) Criar uma função que retorna uma lista com todos os números primos em um intervalo. Exemplo: primos(2, 11) volta [2, 3, 5, 7]"
      ]
    },
    {
      "cell_type": "code",
      "execution_count": null,
      "metadata": {
        "colab": {
          "base_uri": "https://localhost:8080/"
        },
        "id": "PQQb9v1_GNv6",
        "outputId": "02cdb566-c917-4604-bd18-a5ede232d108"
      },
      "outputs": [
        {
          "data": {
            "text/plain": [
              "[2, 3, 5, 7]"
            ]
          },
          "execution_count": 4,
          "metadata": {},
          "output_type": "execute_result"
        }
      ],
      "source": [
        "def primos(x, y):\n",
        "    lista = []\n",
        "    for i in range(x, y):\n",
        "        if i == 0 or i == 1:\n",
        "            continue\n",
        "        else:\n",
        "            for j in range(2, int(i/2)+1):\n",
        "                if i % j == 0:\n",
        "                    break\n",
        "            else:\n",
        "                lista.append(i)\n",
        "    return lista\n",
        "\n",
        "primos(2, 11)"
      ]
    }
  ],
  "metadata": {
    "colab": {
      "provenance": [],
      "include_colab_link": true
    },
    "kernelspec": {
      "display_name": "Python 3",
      "name": "python3"
    },
    "language_info": {
      "name": "python"
    }
  },
  "nbformat": 4,
  "nbformat_minor": 0
}