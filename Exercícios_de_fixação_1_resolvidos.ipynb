{
  "nbformat": 4,
  "nbformat_minor": 0,
  "metadata": {
    "colab": {
      "provenance": [],
      "include_colab_link": true
    },
    "kernelspec": {
      "name": "python3",
      "display_name": "Python 3"
    },
    "language_info": {
      "name": "python"
    }
  },
  "cells": [
    {
      "cell_type": "markdown",
      "metadata": {
        "id": "view-in-github",
        "colab_type": "text"
      },
      "source": [
        "<a href=\"https://colab.research.google.com/github/alaze2024/projetos_diversos_em_python/blob/main/Exerc%C3%ADcios_de_fixa%C3%A7%C3%A3o_1_resolvidos.ipynb\" target=\"_parent\"><img src=\"https://colab.research.google.com/assets/colab-badge.svg\" alt=\"Open In Colab\"/></a>"
      ]
    },
    {
      "cell_type": "markdown",
      "source": [
        "1) Considerando que uma pessoa pode votar a partir dos 16 anos e dirigir a partir dos 18 anos, ler a idade de uma pessoa e informar uma dentre três saídas possíveis:\n",
        "\n",
        "* Pode votar e dirigir;\n",
        "* Pode votar, mas não pode dirigir;\n",
        "* Não pode votar ou dirigir"
      ],
      "metadata": {
        "id": "Zh1A2RF8eCeD"
      }
    },
    {
      "cell_type": "code",
      "execution_count": null,
      "metadata": {
        "id": "wAVlOJIldpdE"
      },
      "outputs": [],
      "source": [
        "idade = int( input('Idade: ') )\n",
        "if idade >= 18:\n",
        "  print('Pode votar e dirigir')\n",
        "elif idade >= 16:\n",
        "  print('Pode votar, mas não pode dirigir')\n",
        "#elif idade < 16:\n",
        "else:\n",
        "  print('Não pode votar ou dirigir')"
      ]
    },
    {
      "cell_type": "markdown",
      "source": [
        "2) Ler uma data (dia, mês e ano) e determinar se ela é válida.  Lembre-se de que, em anos bissextos, o mês de fevereiro tem 29 dias (um ano é bissexto quando for divisível por 4)."
      ],
      "metadata": {
        "id": "deCQEaeceO6w"
      }
    },
    {
      "cell_type": "code",
      "source": [
        "dd = int(input('Dia:'))\n",
        "mm = int(input('Mes:'))\n",
        "aaaa= int(input('Ano:'))\n",
        "\n",
        "if mm==1 or mm==3 or mm==5 or mm==7 or mm==8 or mm==10 or mm==12:\n",
        "  if dd>0 and dd<=31:\n",
        "    print('Data válida')\n",
        "  else:\n",
        "    print('Data inválida')\n",
        "elif mm==2:\n",
        "  # Se o resto da divisão por 4 for igual a zero\n",
        "  if aaaa % 4 == 0:\n",
        "    if dd>0 and dd<=29:\n",
        "      print('Data válida')\n",
        "    else:\n",
        "      print('Data inválida')\n",
        "  else:\n",
        "    if dd>0 and dd<=28:\n",
        "      print('Data válida')\n",
        "    else:\n",
        "      print('Data inválida')\n",
        "elif mm>0 and mm<=12:\n",
        "  if dd>0 and dd<=30:\n",
        "    print('Data válida')\n",
        "  else:\n",
        "    print('Data inválida')\n",
        "# Mês inválido\n",
        "else:\n",
        "  print('Data inválida')"
      ],
      "metadata": {
        "id": "fPCs5hjGeQ7U"
      },
      "execution_count": null,
      "outputs": []
    },
    {
      "cell_type": "markdown",
      "source": [
        "3) Para doar sangue, é necessário ter entre 18 e 67 anos. Ler dia, mês e ano de nascimento de uma pessoa e determinar se ela pode doar sangue ou não."
      ],
      "metadata": {
        "id": "6SLSLsvXeWlw"
      }
    },
    {
      "cell_type": "code",
      "source": [
        "dd_hoje = 4\n",
        "mm_hoje = 7\n",
        "aaaa_hoje = 2021\n",
        "\n",
        "dd = int(input('Dia de nascimento: '))\n",
        "mm = int(input('Mês de nascimento: '))\n",
        "aaaa = int(input('Ano de nascimento: '))\n",
        "\n",
        "# Nasceu este ano\n",
        "if aaaa_hoje == aaaa:\n",
        "  idade = 0\n",
        "else:\n",
        "  idade = aaaa_hoje - aaaa\n",
        "  # Se ainda não fez aniversário, subtrair 1 ano\n",
        "  if mm_hoje < mm or (mm_hoje == mm and dd_hoje < dd):\n",
        "    idade = idade - 1\n",
        "\n",
        "if idade >=18 and idade <= 67:\n",
        "  print('Pode doar')\n",
        "else:\n",
        "  print('Não pode doar')"
      ],
      "metadata": {
        "id": "RswUzXrKeh61"
      },
      "execution_count": null,
      "outputs": []
    },
    {
      "cell_type": "markdown",
      "source": [
        "4) Ler as medidas dos lados de um triângulo e\tdeterminar se\tele\té\tequilátero (três lados iguais),\tisósceles (dois lados iguais), escaleno (todos os lados diferentes) ou se os lados informados não podem compor um triângulo. Note que, como condição de existência, a medida de qualquer um dos lados de um triângulo deve ser menor que a soma das medidas dos outros dois."
      ],
      "metadata": {
        "id": "w1EWRWfPend1"
      }
    },
    {
      "cell_type": "code",
      "source": [
        "l1 = float(input('Lado 1: '))\n",
        "l2 = float(input('Lado 2: '))\n",
        "l3 = float(input('Lado 3: '))\n",
        "\n",
        "if l1>=l2+l3 or l2>=l1+l3 or l3>=l1+l2:\n",
        "  print('Não é triângulo')\n",
        "elif l1==l2==l3:\n",
        "  print('Triângulo equilátero')\n",
        "elif l1==l2 or l1==l3 or l2==l3:\n",
        "  print('Triângulo isósceles')\n",
        "else:\n",
        "  print('Triângulo escaleno')"
      ],
      "metadata": {
        "id": "hemAoRpmergF"
      },
      "execution_count": null,
      "outputs": []
    },
    {
      "cell_type": "markdown",
      "source": [
        "5) A prefeitura de uma cidade fez uma pesquisa entre seus habitantes, coletando dados sobre o salário e número de filhos. A prefeitura deseja saber:  \n",
        "\n",
        "a) média do salário da população;\n",
        "\n",
        "b) média do número de filhos;\n",
        "\n",
        "c) maior salário;\n",
        "\n",
        "d) percentual de pessoas com salário até R$1500,00."
      ],
      "metadata": {
        "id": "1l-8Pu7CfAUC"
      }
    },
    {
      "cell_type": "code",
      "source": [
        "N = int(input('Digite o número de pessoas: '))\n",
        "\n",
        "soma_salario = 0\n",
        "soma_filhos = 0\n",
        "maior_salario = 0\n",
        "pessoas_acima = 0\n",
        "\n",
        "for i in range(N):\n",
        "  print('Pessoa %d' % i)\n",
        "  salario = float(input('Digite o salário: '))\n",
        "  filhos = int(input('Digite o número de filhos: '))\n",
        "  soma_salario += salario\n",
        "  soma_filhos += filhos\n",
        "  if salario > maior_salario:\n",
        "    maior_salario = salario\n",
        "  if salario <= 1500:\n",
        "    pessoas_acima += 1\n",
        "\n",
        "print('Média dos salários: %.2f' % (soma_salario/N))\n",
        "print('Média do número de filhos: %.2f' % (soma_filhos/N))\n",
        "print('Maior salário:', maior_salario)\n",
        "print('Percentual com salário até 1500: %.2f' % (float(pessoas_acima)/N * 100))"
      ],
      "metadata": {
        "id": "9qE1hIVqfCnu"
      },
      "execution_count": null,
      "outputs": []
    },
    {
      "cell_type": "markdown",
      "source": [
        "6) Calcular a média dos números **pares** digitados pelo usuário (ignorar os números ímpares). Termine a leitura se o usuário digitar 0."
      ],
      "metadata": {
        "id": "zIBGSaBrfGxm"
      }
    },
    {
      "cell_type": "code",
      "source": [
        "num = int(input('Digite o número:'))\n",
        "s = 0\n",
        "count = 0\n",
        "while num != 0:\n",
        "  if num % 2 == 0:\n",
        "    s += num\n",
        "    count += 1\n",
        "  num = int(input('Digite o número:'))\n",
        "print('A média dos números pares é', s/count)"
      ],
      "metadata": {
        "id": "WgfDtyQffbd-"
      },
      "execution_count": null,
      "outputs": []
    },
    {
      "cell_type": "markdown",
      "source": [
        "7) Ler as médias finais de vários alunos e informar a maior, a menor e a média aritmética entre as notas. Encerrar as leituras quando uma nota negativa for digitada."
      ],
      "metadata": {
        "id": "jPvUaCZGfhY4"
      }
    },
    {
      "cell_type": "code",
      "source": [
        "n = int(input('Digite o número de alunos: '))\n",
        "maior = 0\n",
        "menor = 10\n",
        "s = 0\n",
        "for i in range(n):\n",
        "  print('Aluno', i)\n",
        "  nota = float(input('Nota: '))\n",
        "  s += nota\n",
        "  if nota > maior:\n",
        "    maior = nota\n",
        "  elif nota < menor:\n",
        "    menor = nota\n",
        "print('Maior nota:', maior)\n",
        "print('Menor nota:', menor)\n",
        "print('Média das notas:', s / n)"
      ],
      "metadata": {
        "id": "xqp-kzFZfl5O"
      },
      "execution_count": null,
      "outputs": []
    },
    {
      "cell_type": "markdown",
      "source": [
        "8) Ler um número $n$ e listar os números primos menores ou iguais a $n$ ou a 100, o que ocorrer primeiro."
      ],
      "metadata": {
        "id": "NXCtqXJNfq5_"
      }
    },
    {
      "cell_type": "code",
      "source": [
        "n = int(input('Digite o valor de n: '))\n",
        "if n > 100:\n",
        "  n = 100\n",
        "\n",
        "for num in range(n):\n",
        "  eh_primo = True\n",
        "  for i in range(2,num):\n",
        "    if num % i == 0:\n",
        "      eh_primo = False\n",
        "  if eh_primo:\n",
        "    print(num)"
      ],
      "metadata": {
        "id": "s0l6YMWffroJ"
      },
      "execution_count": null,
      "outputs": []
    },
    {
      "cell_type": "markdown",
      "source": [
        "9) Dados $N$ conjuntos de coeficientes de uma equação do 2º grau, verificar se existem raizes reais, imprimindo mensagem. Considere que $\\Delta = b^2-4ac$ e que as raizes da equação são dadas por $x = \\frac{-b \\pm \\sqrt{\\Delta}}{2a}$."
      ],
      "metadata": {
        "id": "eVEK4pTogKeq"
      }
    },
    {
      "cell_type": "code",
      "source": [
        "N = int(input('Digite o número de equações:'))\n",
        "for i in range(N):\n",
        "  a = float(input('a:'))\n",
        "  b = float(input('b:'))\n",
        "  c = float(input('c:'))\n",
        "\n",
        "  delta = b**2 - 4 * a * c\n",
        "  if delta>=0:\n",
        "    print('Existem raizes reais.')\n",
        "  else:\n",
        "    print('Não existem raizes reais.')"
      ],
      "metadata": {
        "id": "4IjuQcldgRFM"
      },
      "execution_count": null,
      "outputs": []
    },
    {
      "cell_type": "markdown",
      "source": [
        "10) Dado um numero inteiro, positivo, imprimir o correspondente número binário. Usar somente operações aritméticas simples (e.g., divisão inteira, resto de divisão).\n",
        "\n",
        "Para realizar essa conversão, deve-se realizar a divisão inteira do número por 2 sucessivamente, até que o resultado dessa divisão seja zero. Os restos dessas sucessivas divisões, em ordem reversa, devem ser concatenados, formando o número binário.\n",
        "\n",
        "**Exemplo:**\n",
        "\n",
        "Mostrar que $6_{10}=110_2$:\n",
        "\n",
        "6//2 = 3, resto 0\n",
        "\n",
        "3//2 = 1, resto 1\n",
        "\n",
        "1//2 = 1, resto 1"
      ],
      "metadata": {
        "id": "tXijHG9xf8cS"
      }
    },
    {
      "cell_type": "code",
      "source": [
        "n = int(input('Digite o número: '))\n",
        "q = n\n",
        "resultado = ''\n",
        "while q !=0:\n",
        "  r = q % 2\n",
        "  q = q // 2\n",
        "  resultado = str(r) + resultado\n",
        "resultado"
      ],
      "metadata": {
        "id": "i-_qR2vigDKI"
      },
      "execution_count": null,
      "outputs": []
    },
    {
      "cell_type": "code",
      "source": [
        "s1 = \"Welcome to Python\"\n",
        "s2 = s1\n",
        "s3 = \"Welcome to Python\"\n",
        "s4 = \"to\"\n",
        "s5 = 'Z'\n",
        "s6 = 'a'\n",
        "\n",
        "print (s1 <= s4)\n",
        "print (s2 >= s4)\n",
        "print (s1 != s4)\n",
        "print (s5 < s6)"
      ],
      "metadata": {
        "colab": {
          "base_uri": "https://localhost:8080/"
        },
        "id": "J7YDqAvEJisG",
        "outputId": "3011dc80-2680-480f-8b8c-a9b24f33967a"
      },
      "execution_count": null,
      "outputs": [
        {
          "output_type": "stream",
          "name": "stdout",
          "text": [
            "True\n",
            "False\n",
            "True\n",
            "True\n"
          ]
        }
      ]
    },
    {
      "cell_type": "code",
      "source": [
        "for a in range(1,3):\n",
        "  print(a)"
      ],
      "metadata": {
        "colab": {
          "base_uri": "https://localhost:8080/"
        },
        "id": "ds1rUnD1KsSa",
        "outputId": "aa51c189-5071-47c2-fed6-2490e28d44f7"
      },
      "execution_count": null,
      "outputs": [
        {
          "output_type": "stream",
          "name": "stdout",
          "text": [
            "1\n",
            "2\n"
          ]
        }
      ]
    }
  ]
}