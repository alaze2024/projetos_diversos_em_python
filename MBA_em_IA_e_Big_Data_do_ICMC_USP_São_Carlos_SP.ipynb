{
  "nbformat": 4,
  "nbformat_minor": 0,
  "metadata": {
    "colab": {
      "provenance": [],
      "authorship_tag": "ABX9TyOPA9Do2RmJM8weYyVz1s4j",
      "include_colab_link": true
    },
    "kernelspec": {
      "name": "python3",
      "display_name": "Python 3"
    },
    "language_info": {
      "name": "python"
    }
  },
  "cells": [
    {
      "cell_type": "markdown",
      "metadata": {
        "id": "view-in-github",
        "colab_type": "text"
      },
      "source": [
        "<a href=\"https://colab.research.google.com/github/alaze2024/projetos_diversos_em_python/blob/main/MBA_em_IA_e_Big_Data_do_ICMC_USP_S%C3%A3o_Carlos_SP.ipynb\" target=\"_parent\"><img src=\"https://colab.research.google.com/assets/colab-badge.svg\" alt=\"Open In Colab\"/></a>"
      ]
    },
    {
      "cell_type": "code",
      "execution_count": null,
      "metadata": {
        "id": "vMUGACC-rTn7"
      },
      "outputs": [],
      "source": []
    },
    {
      "cell_type": "code",
      "source": [
        "mylist = [1,2,3,4,5]\n",
        "list2 = [6,7,8,9,10]\n",
        "mylist + list2"
      ],
      "metadata": {
        "colab": {
          "base_uri": "https://localhost:8080/"
        },
        "id": "sWvyqOMtrgqz",
        "outputId": "899d99cd-09ef-45dc-8861-0c5f375021f2"
      },
      "execution_count": null,
      "outputs": [
        {
          "output_type": "execute_result",
          "data": {
            "text/plain": [
              "[1, 2, 3, 4, 5, 6, 7, 8, 9, 10]"
            ]
          },
          "metadata": {},
          "execution_count": 1
        }
      ]
    },
    {
      "cell_type": "code",
      "source": [
        "mylist.extend(list2)\n",
        "mylist"
      ],
      "metadata": {
        "colab": {
          "base_uri": "https://localhost:8080/"
        },
        "id": "9ONzbDkYr7P0",
        "outputId": "92601279-a282-49e7-b024-81d48725b0bc"
      },
      "execution_count": null,
      "outputs": [
        {
          "output_type": "execute_result",
          "data": {
            "text/plain": [
              "[1, 2, 3, 4, 5, 6, 7, 8, 9, 10]"
            ]
          },
          "metadata": {},
          "execution_count": 3
        }
      ]
    },
    {
      "cell_type": "code",
      "source": [
        "mylist = \"casa\"\n",
        "mylist"
      ],
      "metadata": {
        "id": "oAMEiyGHsFri",
        "colab": {
          "base_uri": "https://localhost:8080/",
          "height": 35
        },
        "outputId": "90e4e271-ea43-4d39-fc0a-180388e689ab"
      },
      "execution_count": null,
      "outputs": [
        {
          "output_type": "execute_result",
          "data": {
            "text/plain": [
              "'casa'"
            ],
            "application/vnd.google.colaboratory.intrinsic+json": {
              "type": "string"
            }
          },
          "metadata": {},
          "execution_count": 5
        }
      ]
    },
    {
      "cell_type": "code",
      "source": [
        "print(\"mylist\")"
      ],
      "metadata": {
        "id": "4QdxO-Qkv1Wn",
        "colab": {
          "base_uri": "https://localhost:8080/"
        },
        "outputId": "50d14d9a-59f3-433b-d5dc-4d960d654c11"
      },
      "execution_count": null,
      "outputs": [
        {
          "output_type": "stream",
          "name": "stdout",
          "text": [
            "mylist\n"
          ]
        }
      ]
    },
    {
      "cell_type": "markdown",
      "source": [
        "Este notebook é do meu MBA em IA e Big Data do ICMC USP São Carlos SP\n"
      ],
      "metadata": {
        "id": "TaYxzQV_rVxO"
      }
    },
    {
      "cell_type": "markdown",
      "source": [
        "Apresentando minha sudações inciais."
      ],
      "metadata": {
        "id": "n60vzB_FzL36"
      }
    },
    {
      "cell_type": "code",
      "source": [
        "print(\"Hello guys. Wats up? Good morning for everyone.\")"
      ],
      "metadata": {
        "colab": {
          "base_uri": "https://localhost:8080/"
        },
        "id": "KtN4qMH1y5Cn",
        "outputId": "6ef61e3c-c078-42fa-f522-aeb3b8a77f2c"
      },
      "execution_count": null,
      "outputs": [
        {
          "output_type": "stream",
          "name": "stdout",
          "text": [
            "Hello guys. Wats up? Good morning for everyone.\n"
          ]
        }
      ]
    },
    {
      "cell_type": "code",
      "source": [
        "a = 200000.00\n",
        "b = 150000.00\n",
        "c = 182000.00\n",
        "d = 890900.00\n",
        "e = 720000.00\n",
        "f = 845000.00\n",
        "g = 900000.00\n",
        "h = 910000.00\n",
        "i = 883000.00\n",
        "j = 1050000.00\n",
        "k = float(input(\"Digite a taxa de desconto para este valuation:\"))\n",
        "l = a/((1+k)**1)+b/((1+k)**2)+c/((1+k)**3)+d/((1+k)**4)+e/((1+k)**5)+f/((1+k)**6)+g/((1+k)**7)+h/((1+k)**8)+i/((1+k)**9)+j/((1+k)**10)\n",
        "print(\"R$ {:.2f}\".format(l))"
      ],
      "metadata": {
        "colab": {
          "base_uri": "https://localhost:8080/"
        },
        "id": "vg4BFLWGzWDU",
        "outputId": "82a3908e-214a-4c48-cb99-23195db80d0e"
      },
      "execution_count": null,
      "outputs": [
        {
          "output_type": "stream",
          "name": "stdout",
          "text": [
            "Digite a taxa de desconto para este valuation:0.05\n",
            "R$ 4880721.15\n"
          ]
        }
      ]
    },
    {
      "cell_type": "code",
      "source": [
        "print(\"O valor da empresa neste valuation, seja seu Enterprise Value ou Equity Value, é R$ {:.2f}.\".format(l))"
      ],
      "metadata": {
        "colab": {
          "base_uri": "https://localhost:8080/"
        },
        "id": "fGpcFsDi5bfw",
        "outputId": "a28daed2-ff55-4b5b-b36a-100d296e5085"
      },
      "execution_count": null,
      "outputs": [
        {
          "output_type": "stream",
          "name": "stdout",
          "text": [
            "O valor da empresa neste valuation, seja seu Enterprise Value ou Equity Value, é R$ 4880721.15.\n"
          ]
        }
      ]
    },
    {
      "cell_type": "code",
      "source": [
        "x = input('x:')\n",
        "y = input('y:')\n",
        "z = float(x)/float(y)\n",
        "print(z)\n",
        "print('x antigo', x)\n",
        "print('y antigo', y)\n",
        "\n",
        "aux = x\n",
        "x = y\n",
        "y = aux\n",
        "print('x novo', x)\n",
        "print('y novo', y)\n"
      ],
      "metadata": {
        "colab": {
          "base_uri": "https://localhost:8080/"
        },
        "id": "EMBVglfn7Hfb",
        "outputId": "7bda8e81-be8b-4e97-e1f6-e9cd23a030df"
      },
      "execution_count": null,
      "outputs": [
        {
          "output_type": "stream",
          "name": "stdout",
          "text": [
            "x:550\n",
            "y:246\n",
            "2.2357723577235773\n",
            "x antigo 550\n",
            "y antigo 246\n",
            "x novo 246\n",
            "y novo 550\n"
          ]
        }
      ]
    },
    {
      "cell_type": "code",
      "source": [
        "v1 = int(input(\"Digite o valor de V1:\"))\n",
        "v2 = int(input(\"Digite o valor de V2:\"))\n",
        "v3 = int(input(\"Digite o valor de V3:\"))\n",
        "v4 = int(input(\"Digite o valor de V4:\"))\n",
        "if v1 < v2:\n",
        "  print(\"V1 é menor que V2\")\n",
        "elif v1 > v2:\n",
        "  print(\"V1 é maior que V2\")\n",
        "else:\n",
        "  print(\"V1 é igual a V2\")\n",
        "  if v3 < v4:\n",
        "    print(\"V3 é menor que V4\")\n",
        "  elif v3 > v4:\n",
        "    print(\"V3 é maior que V4\")\n",
        "  else:\n",
        "    print(\"V3 é igual a V4\")\n"
      ],
      "metadata": {
        "colab": {
          "base_uri": "https://localhost:8080/"
        },
        "id": "SRR94B877p-h",
        "outputId": "a040879c-4498-46be-a802-5d8c155343a2"
      },
      "execution_count": null,
      "outputs": [
        {
          "output_type": "stream",
          "name": "stdout",
          "text": [
            "Digite o valor de V1:125\n",
            "Digite o valor de V2:125\n",
            "Digite o valor de V3:523\n",
            "Digite o valor de V4:485\n",
            "V1 é igual a V2\n",
            "V3 é maior que V4\n"
          ]
        }
      ]
    },
    {
      "cell_type": "code",
      "source": [
        "#Verificando se minha senha digitada está correta\n",
        "digitada = input('Digite a senha:')\n",
        "if digitada == '561762AAAaaa@':\n",
        "  print('ACESSO PERMITIDO')\n",
        "else:\n",
        "  print('ACESSO NEGADO')\n",
        "\n"
      ],
      "metadata": {
        "colab": {
          "base_uri": "https://localhost:8080/"
        },
        "id": "sJQquDpA_7hS",
        "outputId": "24dc57fd-c2dc-494d-d5a5-c928fb218ee8"
      },
      "execution_count": null,
      "outputs": [
        {
          "output_type": "stream",
          "name": "stdout",
          "text": [
            "Digite a senha:561762AAAaaa@\n",
            "ACESSO PERMITIDO\n"
          ]
        }
      ]
    },
    {
      "cell_type": "code",
      "source": [
        "#no comando print, quando usamos %s nos referimos a strings, %d nos referimos a valores inteiros, e %.2f nos referimos a valores reais/decimais"
      ],
      "metadata": {
        "id": "Qzf5DnzwCtAB"
      },
      "execution_count": null,
      "outputs": []
    },
    {
      "cell_type": "code",
      "source": [
        "#Utilizando a fórmula de Bháskara para calcular as raízes de uma equação com valores reais\n",
        "a = float(input('Digite o valor de a:'))\n",
        "b = float(input('Digite o valor de b:'))\n",
        "c = float(input('Digite o valor de c:'))\n",
        "delta = b**2 - 4*a*c\n",
        "raiz_delta = delta**0.5\n",
        "x1 = (-b + raiz_delta)/(2*a)\n",
        "x2 = (-b - raiz_delta)/(2*a)\n",
        "print('x1 = %.2f' %x1)\n",
        "print('x2 = %.2f' %x2)\n",
        "print('As raízes são %.2f e %.2f' % (x1, x2))\n"
      ],
      "metadata": {
        "colab": {
          "base_uri": "https://localhost:8080/"
        },
        "id": "P9y5oy5MD7rc",
        "outputId": "e5f8568a-92fe-40a4-fefe-545930c36f09"
      },
      "execution_count": null,
      "outputs": [
        {
          "output_type": "stream",
          "name": "stdout",
          "text": [
            "Digite o valor de a:2.5\n",
            "Digite o valor de b:5.8\n",
            "Digite o valor de c:3.2\n",
            "x1 = -0.90\n",
            "x2 = -1.42\n",
            "As raízes são -0.90 e -1.42\n"
          ]
        }
      ]
    },
    {
      "cell_type": "code",
      "source": [
        "# Utilizando a fórmula de Bháskara para calcular as raízes de uma equação com valores inteiros\n",
        "a = int(input('Digite o valor de a: '))\n",
        "b = int(input('Digite o valor de b: '))\n",
        "c = int(input('Digite o valor de c: '))\n",
        "\n",
        "delta = b**2 - 4*a*c\n",
        "\n",
        "# Verificando se delta é negativo, zero ou positivo\n",
        "if delta < 0:\n",
        "    print('A equação não possui raízes reais.')\n",
        "elif delta == 0:\n",
        "    x1 = -b / (2*a)\n",
        "    print('A equação possui uma raiz real: x = {:.2f}'.format(x1))\n",
        "else:\n",
        "    raiz_delta = delta**0.5\n",
        "    x1 = (-b + raiz_delta) / (2*a)\n",
        "    x2 = (-b - raiz_delta) / (2*a)\n",
        "    print('x1 = {:.2f}'.format(x1))\n",
        "    print('x2 = {:.2f}'.format(x2))\n",
        "    print('As raízes são {:.2f} e {:.2f}'.format(x1, x2))\n"
      ],
      "metadata": {
        "colab": {
          "base_uri": "https://localhost:8080/"
        },
        "id": "y4sEwLIOFejP",
        "outputId": "37271cef-6d54-4236-9854-fd48b74c4c87"
      },
      "execution_count": null,
      "outputs": [
        {
          "output_type": "stream",
          "name": "stdout",
          "text": [
            "Digite o valor de a: 2\n",
            "Digite o valor de b: 3\n",
            "Digite o valor de c: 4\n",
            "A equação não possui raízes reais.\n"
          ]
        }
      ]
    },
    {
      "cell_type": "code",
      "source": [
        "#Trabalhando com datas de nascimento\n",
        "dd_hoje = 11\n",
        "mm_hoje = 7\n",
        "aaaa_hoje = 2024\n",
        "\n",
        "dd = int(input('Digite o dia de nascimento:'))\n",
        "mm = int(input('Digite o mês de nascimento:'))\n",
        "aaaa = int(input('Digite o ano de nascimento:'))\n",
        "\n",
        "idade = aaaa_hoje - aaaa\n",
        "if aaaa_hoje == aaaa:\n",
        "        idade = 0\n",
        "else:\n",
        "        idade = aaaa_hoje - aaaa\n",
        "        print('Você tem %d anos' %idade)\n",
        "        if mm_hoje < mm or (mm_hoje == mm and dd_hoje < dd):\n",
        "          idade = idade - 1\n",
        "          if idade < 18:\n",
        "            print('Você é menor de idade')\n",
        "          else:\n",
        "            print('Você é maior de idade')\n",
        "            print('Idade: %d anos' % idade)"
      ],
      "metadata": {
        "id": "_FGTHRL8GkJM",
        "colab": {
          "base_uri": "https://localhost:8080/"
        },
        "outputId": "ee44ba35-c4ff-417d-9d19-ffcf23882afd"
      },
      "execution_count": null,
      "outputs": [
        {
          "output_type": "stream",
          "name": "stdout",
          "text": [
            "Digite o dia de nascimento:18\n",
            "Digite o mês de nascimento:2\n",
            "Digite o ano de nascimento:1990\n",
            "Você tem 34 anos\n"
          ]
        }
      ]
    },
    {
      "cell_type": "code",
      "source": [
        "#Loops infinitos\n",
        "n = 1\n",
        "while n > 0:  #valor de n não muda\n",
        "  print(n-1)\n"
      ],
      "metadata": {
        "id": "_YVark19zPun"
      },
      "execution_count": null,
      "outputs": []
    },
    {
      "cell_type": "code",
      "source": [
        "#Laço for\n",
        "for item in [20,21,22,23,24,25]:\n",
        "  dobro = item * 2\n",
        "  print(item, ' * 2 = ', dobro)\n",
        "\n"
      ],
      "metadata": {
        "colab": {
          "base_uri": "https://localhost:8080/"
        },
        "id": "j7v3HGvu7gTK",
        "outputId": "1b2d0787-3906-4966-b0fc-a5326fc0f609"
      },
      "execution_count": null,
      "outputs": [
        {
          "output_type": "stream",
          "name": "stdout",
          "text": [
            "20  * 2 =  40\n",
            "21  * 2 =  42\n",
            "22  * 2 =  44\n",
            "23  * 2 =  46\n",
            "24  * 2 =  48\n",
            "25  * 2 =  50\n"
          ]
        }
      ]
    },
    {
      "cell_type": "code",
      "source": [
        "#Laço for\n",
        "for item in range(10,25):\n",
        "  dobro = item * 2\n",
        "  print(item, ' * 2 = ', dobro)\n"
      ],
      "metadata": {
        "colab": {
          "base_uri": "https://localhost:8080/"
        },
        "id": "CwD_iInM98QS",
        "outputId": "5ea60192-64f9-4bd4-8fa9-5c5400d46817"
      },
      "execution_count": null,
      "outputs": [
        {
          "output_type": "stream",
          "name": "stdout",
          "text": [
            "10  * 2 =  20\n",
            "11  * 2 =  22\n",
            "12  * 2 =  24\n",
            "13  * 2 =  26\n",
            "14  * 2 =  28\n",
            "15  * 2 =  30\n",
            "16  * 2 =  32\n",
            "17  * 2 =  34\n",
            "18  * 2 =  36\n",
            "19  * 2 =  38\n",
            "20  * 2 =  40\n",
            "21  * 2 =  42\n",
            "22  * 2 =  44\n",
            "23  * 2 =  46\n",
            "24  * 2 =  48\n"
          ]
        }
      ]
    },
    {
      "cell_type": "code",
      "source": [
        "#Laço for com strings\n",
        "for item in 'casa':\n",
        "  print(item)"
      ],
      "metadata": {
        "colab": {
          "base_uri": "https://localhost:8080/"
        },
        "id": "OSfwsdU0-MRR",
        "outputId": "07cc0a3f-90e8-419d-b370-3ea534af7153"
      },
      "execution_count": null,
      "outputs": [
        {
          "output_type": "stream",
          "name": "stdout",
          "text": [
            "c\n",
            "a\n",
            "s\n",
            "a\n"
          ]
        }
      ]
    },
    {
      "cell_type": "code",
      "source": [
        "#Laço for com strings\n",
        "for item in 'A Teoria da Predestinação mais atual e original é a de Álaze Gabriel do Breviário':\n",
        "  print(item)"
      ],
      "metadata": {
        "colab": {
          "base_uri": "https://localhost:8080/"
        },
        "id": "MdV6U6I0-dup",
        "outputId": "214710c1-1a66-46d9-bba0-6709ecc7bfc9"
      },
      "execution_count": null,
      "outputs": [
        {
          "output_type": "stream",
          "name": "stdout",
          "text": [
            "A\n",
            " \n",
            "T\n",
            "e\n",
            "o\n",
            "r\n",
            "i\n",
            "a\n",
            " \n",
            "d\n",
            "a\n",
            " \n",
            "P\n",
            "r\n",
            "e\n",
            "d\n",
            "e\n",
            "s\n",
            "t\n",
            "i\n",
            "n\n",
            "a\n",
            "ç\n",
            "ã\n",
            "o\n",
            " \n",
            "m\n",
            "a\n",
            "i\n",
            "s\n",
            " \n",
            "a\n",
            "t\n",
            "u\n",
            "a\n",
            "l\n",
            " \n",
            "e\n",
            " \n",
            "o\n",
            "r\n",
            "i\n",
            "g\n",
            "i\n",
            "n\n",
            "a\n",
            "l\n",
            " \n",
            "é\n",
            " \n",
            "a\n",
            " \n",
            "d\n",
            "e\n",
            " \n",
            "Á\n",
            "l\n",
            "a\n",
            "z\n",
            "e\n",
            " \n",
            "G\n",
            "a\n",
            "b\n",
            "r\n",
            "i\n",
            "e\n",
            "l\n",
            " \n",
            "d\n",
            "o\n",
            " \n",
            "B\n",
            "r\n",
            "e\n",
            "v\n",
            "i\n",
            "á\n",
            "r\n",
            "i\n",
            "o\n"
          ]
        }
      ]
    },
    {
      "cell_type": "code",
      "source": [
        "#Loop While\n",
        "i = 1\n",
        "while i < 10:\n",
        "  print(i)\n",
        "  i = i + 1"
      ],
      "metadata": {
        "colab": {
          "base_uri": "https://localhost:8080/"
        },
        "id": "mYphQ6QM-o2f",
        "outputId": "2bfe403f-34bb-4fbf-9f07-ee6e8bdc0965"
      },
      "execution_count": null,
      "outputs": [
        {
          "output_type": "stream",
          "name": "stdout",
          "text": [
            "1\n",
            "2\n",
            "3\n",
            "4\n",
            "5\n",
            "6\n",
            "7\n",
            "8\n",
            "9\n"
          ]
        }
      ]
    },
    {
      "cell_type": "code",
      "source": [
        "#Loop While\n",
        "while True:\n",
        "  line = input('Digite algo:')\n",
        "  if line == 'done':\n",
        "    break\n",
        "  print(line)\n",
        "print('Done!')"
      ],
      "metadata": {
        "colab": {
          "base_uri": "https://localhost:8080/"
        },
        "id": "vcjFTZqA_Qik",
        "outputId": "b11973c7-ed93-48cb-84e1-f548c1e738ac"
      },
      "execution_count": null,
      "outputs": [
        {
          "output_type": "stream",
          "name": "stdout",
          "text": [
            "Digite algo:amor\n",
            "amor\n",
            "Digite algo:cebola\n",
            "cebola\n",
            "Digite algo:casa\n",
            "casa\n",
            "Digite algo:ternura\n",
            "ternura\n",
            "Digite algo:terno\n",
            "terno\n",
            "Digite algo:frango\n",
            "frango\n",
            "Digite algo:fogo\n",
            "fogo\n",
            "Digite algo:tijolo\n",
            "tijolo\n",
            "Digite algo:carro\n",
            "carro\n",
            "Digite algo:namorada\n",
            "namorada\n",
            "Digite algo:esposa\n",
            "esposa\n",
            "Digite algo:Deus\n",
            "Deus\n",
            "Digite algo:done\n",
            "Done!\n"
          ]
        }
      ]
    },
    {
      "cell_type": "code",
      "source": [
        "#Loop While\n",
        "while True:\n",
        "  line = input('Digite algo:')\n",
        "  if line == 'done':\n",
        "    break\n",
        "  if line == 'blank':\n",
        "    continue\n",
        "  print(line)\n",
        "print('Done!')"
      ],
      "metadata": {
        "colab": {
          "base_uri": "https://localhost:8080/"
        },
        "id": "SD--s6MF_u5L",
        "outputId": "967dd08e-1b9f-4339-885c-86de9cede427"
      },
      "execution_count": null,
      "outputs": [
        {
          "output_type": "stream",
          "name": "stdout",
          "text": [
            "Digite algo:1\n",
            "1\n",
            "Digite algo:2\n",
            "2\n",
            "Digite algo:3\n",
            "3\n",
            "Digite algo:museu\n",
            "museu\n",
            "Digite algo:universidade\n",
            "universidade\n",
            "Digite algo:pesquisa\n",
            "pesquisa\n",
            "Digite algo:blank\n",
            "Digite algo:done\n",
            "Done!\n"
          ]
        }
      ]
    },
    {
      "cell_type": "code",
      "source": [
        "#Método de Newton\n",
        "a = float(input('Digite o valor de x:'))\n",
        "x = float(input('Digite o valor de e:'))\n",
        "y = (x + a/x) / 2\n",
        "print('y=', y, 'y*y=', y*y)\n"
      ],
      "metadata": {
        "colab": {
          "base_uri": "https://localhost:8080/"
        },
        "id": "oYNfgdKMBanO",
        "outputId": "ad9e0a85-c65f-4068-e101-4e43cb5ba265"
      },
      "execution_count": null,
      "outputs": [
        {
          "output_type": "stream",
          "name": "stdout",
          "text": [
            "Digite o valor de x:1.2\n",
            "Digite o valor de e:2.5\n",
            "y= 1.49 y*y= 2.2201\n"
          ]
        }
      ]
    },
    {
      "cell_type": "code",
      "source": [
        "#repetir valores numéricos de uma em uma unidade\n",
        "a = int(input('Digite o valor de a:'))\n",
        "b = int(input('Digite o valor de b:'))\n",
        "c = int(input('Digite o valor de c:'))\n",
        "d = int(input('Digite o valor de d:'))\n",
        "\n",
        "for i in range(a, b, 1):\n",
        "  print(i)\n",
        "for i in range (c, d, 1):\n",
        "  print(i)\n"
      ],
      "metadata": {
        "id": "GUHO9xVJCUkE",
        "colab": {
          "base_uri": "https://localhost:8080/"
        },
        "outputId": "eedf3daf-8b4e-4f8d-d63d-0a845c2f3c1c"
      },
      "execution_count": null,
      "outputs": [
        {
          "output_type": "stream",
          "name": "stdout",
          "text": [
            "Digite o valor de a:2\n",
            "Digite o valor de b:10\n",
            "Digite o valor de c:12\n",
            "Digite o valor de d:30\n",
            "2\n",
            "3\n",
            "4\n",
            "5\n",
            "6\n",
            "7\n",
            "8\n",
            "9\n",
            "12\n",
            "13\n",
            "14\n",
            "15\n",
            "16\n",
            "17\n",
            "18\n",
            "19\n",
            "20\n",
            "21\n",
            "22\n",
            "23\n",
            "24\n",
            "25\n",
            "26\n",
            "27\n",
            "28\n",
            "29\n"
          ]
        }
      ]
    },
    {
      "cell_type": "code",
      "source": [
        "#repetir valores numéricos de duas em duas unidades\n",
        "a = int(input('Digite o valor de a:'))\n",
        "b = int(input('Digite o valor de b:'))\n",
        "c = int(input('Digite o valor de c:'))\n",
        "d = int(input('Digite o valor de d:'))\n",
        "\n",
        "for i in range(a, b, 2):\n",
        "  print(i)\n",
        "for i in range (c, d, 2):\n",
        "  print(i)"
      ],
      "metadata": {
        "colab": {
          "base_uri": "https://localhost:8080/"
        },
        "id": "pmTJdbIkgqno",
        "outputId": "bfbd2570-3a09-4f03-bba2-223ff89c24ae"
      },
      "execution_count": null,
      "outputs": [
        {
          "output_type": "stream",
          "name": "stdout",
          "text": [
            "Digite o valor de a:20\n",
            "Digite o valor de b:30\n",
            "Digite o valor de c:25\n",
            "Digite o valor de d:50\n",
            "20\n",
            "22\n",
            "24\n",
            "26\n",
            "28\n",
            "25\n",
            "27\n",
            "29\n",
            "31\n",
            "33\n",
            "35\n",
            "37\n",
            "39\n",
            "41\n",
            "43\n",
            "45\n",
            "47\n",
            "49\n"
          ]
        }
      ]
    },
    {
      "cell_type": "code",
      "source": [
        "#somar todos os números ímpares entre 0 e 100\n",
        "soma = 0\n",
        "for i in range(1, 100, 2):\n",
        "  soma = soma + i\n",
        "print('Somatório =', soma)"
      ],
      "metadata": {
        "colab": {
          "base_uri": "https://localhost:8080/"
        },
        "id": "4OUY6wYDg6ju",
        "outputId": "2fc9521d-185e-4660-de86-8c663c5c4c62"
      },
      "execution_count": null,
      "outputs": [
        {
          "output_type": "stream",
          "name": "stdout",
          "text": [
            "Somatório = 2500\n"
          ]
        }
      ]
    },
    {
      "cell_type": "code",
      "source": [
        "#somar todos os números pares entre 0 e 1200\n",
        "soma = 0\n",
        "for i in range(0, 1201, 2):\n",
        "  soma = soma + i\n",
        "print('Somatório =', soma)"
      ],
      "metadata": {
        "colab": {
          "base_uri": "https://localhost:8080/"
        },
        "id": "gFQ9eVHWi4lw",
        "outputId": "9954c4dd-0943-44b4-f2ec-769944ade409"
      },
      "execution_count": null,
      "outputs": [
        {
          "output_type": "stream",
          "name": "stdout",
          "text": [
            "Somatório = 360600\n"
          ]
        }
      ]
    },
    {
      "cell_type": "code",
      "source": [
        "#calculando a média aritmética simples de qualquer quantidade de valores reais\n",
        "N = int(input('Digite a quantidade de valores:'))\n",
        "soma = 0\n",
        "for i in range(N):\n",
        "  valor = float(input('Digite o valor:'))\n",
        "  soma = soma + valor\n",
        "media = soma / N\n",
        "print(\"A média aritmética simples dos valores apresentados é igual a\", media)"
      ],
      "metadata": {
        "colab": {
          "base_uri": "https://localhost:8080/"
        },
        "id": "2c6-gFtrjNKA",
        "outputId": "9452c9af-25ad-4608-c6a0-d78344a113ad"
      },
      "execution_count": null,
      "outputs": [
        {
          "output_type": "stream",
          "name": "stdout",
          "text": [
            "Digite a quantidade de valores:10\n",
            "Digite o valor:7.5\n",
            "Digite o valor:8.0\n",
            "Digite o valor:9.2\n",
            "Digite o valor:7.8\n",
            "Digite o valor:8.9\n",
            "Digite o valor:9.8\n",
            "Digite o valor:9.9\n",
            "Digite o valor:10\n",
            "Digite o valor:7.9\n",
            "Digite o valor:8.4\n",
            "A média aritmética simples dos valores apresentados é igual a 8.74\n"
          ]
        }
      ]
    },
    {
      "cell_type": "code",
      "source": [
        "#Testar se um número é primo\n",
        "for num in range(2, 100):\n",
        "  for i in range(2, num):\n",
        "    if num % i == 0:\n",
        "      print(num, 'não é primo')\n",
        "      break\n",
        "  else:\n",
        "    print(num, 'é primo')\n"
      ],
      "metadata": {
        "colab": {
          "base_uri": "https://localhost:8080/"
        },
        "id": "HjmJ7d0okVPz",
        "outputId": "880d2de7-f75e-4253-dd0c-36821de463ce"
      },
      "execution_count": null,
      "outputs": [
        {
          "output_type": "stream",
          "name": "stdout",
          "text": [
            "2 é primo\n",
            "3 é primo\n",
            "4 não é primo\n",
            "5 é primo\n",
            "6 não é primo\n",
            "7 é primo\n",
            "8 não é primo\n",
            "9 não é primo\n",
            "10 não é primo\n",
            "11 é primo\n",
            "12 não é primo\n",
            "13 é primo\n",
            "14 não é primo\n",
            "15 não é primo\n",
            "16 não é primo\n",
            "17 é primo\n",
            "18 não é primo\n",
            "19 é primo\n",
            "20 não é primo\n",
            "21 não é primo\n",
            "22 não é primo\n",
            "23 é primo\n",
            "24 não é primo\n",
            "25 não é primo\n",
            "26 não é primo\n",
            "27 não é primo\n",
            "28 não é primo\n",
            "29 é primo\n",
            "30 não é primo\n",
            "31 é primo\n",
            "32 não é primo\n",
            "33 não é primo\n",
            "34 não é primo\n",
            "35 não é primo\n",
            "36 não é primo\n",
            "37 é primo\n",
            "38 não é primo\n",
            "39 não é primo\n",
            "40 não é primo\n",
            "41 é primo\n",
            "42 não é primo\n",
            "43 é primo\n",
            "44 não é primo\n",
            "45 não é primo\n",
            "46 não é primo\n",
            "47 é primo\n",
            "48 não é primo\n",
            "49 não é primo\n",
            "50 não é primo\n",
            "51 não é primo\n",
            "52 não é primo\n",
            "53 é primo\n",
            "54 não é primo\n",
            "55 não é primo\n",
            "56 não é primo\n",
            "57 não é primo\n",
            "58 não é primo\n",
            "59 é primo\n",
            "60 não é primo\n",
            "61 é primo\n",
            "62 não é primo\n",
            "63 não é primo\n",
            "64 não é primo\n",
            "65 não é primo\n",
            "66 não é primo\n",
            "67 é primo\n",
            "68 não é primo\n",
            "69 não é primo\n",
            "70 não é primo\n",
            "71 é primo\n",
            "72 não é primo\n",
            "73 é primo\n",
            "74 não é primo\n",
            "75 não é primo\n",
            "76 não é primo\n",
            "77 não é primo\n",
            "78 não é primo\n",
            "79 é primo\n",
            "80 não é primo\n",
            "81 não é primo\n",
            "82 não é primo\n",
            "83 é primo\n",
            "84 não é primo\n",
            "85 não é primo\n",
            "86 não é primo\n",
            "87 não é primo\n",
            "88 não é primo\n",
            "89 é primo\n",
            "90 não é primo\n",
            "91 não é primo\n",
            "92 não é primo\n",
            "93 não é primo\n",
            "94 não é primo\n",
            "95 não é primo\n",
            "96 não é primo\n",
            "97 é primo\n",
            "98 não é primo\n",
            "99 não é primo\n"
          ]
        }
      ]
    },
    {
      "cell_type": "code",
      "source": [
        "#Apresentando a sequência de Fibonacci\n",
        "N = int(input('Digite o número de termos:'))\n",
        "a = 1\n",
        "b = 1\n",
        "print('1')\n",
        "print('1')\n",
        "for i in range(N):\n",
        "  c = a + b\n",
        "  print(c)\n",
        "  a = b\n",
        "  b = c\n"
      ],
      "metadata": {
        "colab": {
          "base_uri": "https://localhost:8080/"
        },
        "id": "H0-7BIF0l5k9",
        "outputId": "7b3faafb-036b-410a-e81e-cf2060339e15"
      },
      "execution_count": null,
      "outputs": [
        {
          "output_type": "stream",
          "name": "stdout",
          "text": [
            "Digite o número de termos:25\n",
            "1\n",
            "1\n",
            "2\n",
            "3\n",
            "5\n",
            "8\n",
            "13\n",
            "21\n",
            "34\n",
            "55\n",
            "89\n",
            "144\n",
            "233\n",
            "377\n",
            "610\n",
            "987\n",
            "1597\n",
            "2584\n",
            "4181\n",
            "6765\n",
            "10946\n",
            "17711\n",
            "28657\n",
            "46368\n",
            "75025\n",
            "121393\n",
            "196418\n"
          ]
        }
      ]
    },
    {
      "cell_type": "code",
      "source": [
        "#Comando while para ler números inteiros enquanto forem diferentes de zero\n",
        "num = int(input('Digite um número inteiro:'))\n",
        "while num != 0:\n",
        "  num = int(input('Digite um número inteiro:'))\n",
        "print('Fim')"
      ],
      "metadata": {
        "id": "iBuT90SOnTs6",
        "colab": {
          "base_uri": "https://localhost:8080/"
        },
        "outputId": "9d34bbb7-ca50-45bd-ed10-f1e78b88a4aa"
      },
      "execution_count": null,
      "outputs": [
        {
          "output_type": "stream",
          "name": "stdout",
          "text": [
            "Digite um número inteiro:10\n",
            "Digite um número inteiro:25\n",
            "Digite um número inteiro:6\n",
            "Digite um número inteiro:8\n",
            "Digite um número inteiro:92\n",
            "Digite um número inteiro:142\n",
            "Digite um número inteiro:0\n",
            "Fim\n"
          ]
        }
      ]
    },
    {
      "cell_type": "code",
      "source": [
        "#while para receber vários valores inteiros e só calcular sua média aritmética quano for informado o valor 0\n",
        "x = int(input('Digite um número inteiro:'))\n",
        "soma = 0\n",
        "quantidade = 0\n",
        "while x > 0:\n",
        "  soma = soma + x\n",
        "  quantidade = quantidade + 1\n",
        "  x = int(input('Digite um número inteiro:'))\n",
        "media = soma / quantidade\n",
        "print('Média =', media)"
      ],
      "metadata": {
        "colab": {
          "base_uri": "https://localhost:8080/"
        },
        "id": "vngFdmG2S_kN",
        "outputId": "948013f6-41fc-4a13-f34a-bb67c555b013"
      },
      "execution_count": null,
      "outputs": [
        {
          "output_type": "stream",
          "name": "stdout",
          "text": [
            "Digite um número inteiro:10\n",
            "Digite um número inteiro:23\n",
            "Digite um número inteiro:65\n",
            "Digite um número inteiro:84\n",
            "Digite um número inteiro:25\n",
            "Digite um número inteiro:41\n",
            "Digite um número inteiro:12\n",
            "Digite um número inteiro:0\n",
            "Média = 37.142857142857146\n"
          ]
        }
      ]
    },
    {
      "cell_type": "code",
      "source": [
        "#while para somar os números positivos, separado da soma dos números negativos, e imprimir a soma de cada grupo\n",
        "numero = float(input('Digite um número:'))\n",
        "soma_positivos = 0\n",
        "soma_negativos = 0\n",
        "while numero != 0:\n",
        "  if numero > 0:\n",
        "    soma_positivos = soma_positivos + numero\n",
        "  else:\n",
        "    soma_negativos = soma_negativos + numero\n",
        "  numero = float(input('Digite um número:'))\n",
        "print('Soma dos números positivos:', soma_positivos)\n",
        "print('Soma dos números negativos:', soma_negativos)"
      ],
      "metadata": {
        "colab": {
          "base_uri": "https://localhost:8080/"
        },
        "id": "6dfPuaroUFYa",
        "outputId": "c0811e9c-4c2c-4882-d424-655df5469c56"
      },
      "execution_count": null,
      "outputs": [
        {
          "output_type": "stream",
          "name": "stdout",
          "text": [
            "Digite um número:12.4\n",
            "Digite um número:85.3\n",
            "Digite um número:-87.6\n",
            "Digite um número:-45.3\n",
            "Digite um número:-142.3\n",
            "Digite um número:56.9\n",
            "Digite um número:96.5\n",
            "Digite um número:74.5\n",
            "Digite um número:12.4\n",
            "Digite um número:-78.9\n",
            "Digite um número:-41.2\n",
            "Digite um número:0\n",
            "Soma dos números positivos: 338.0\n",
            "Soma dos números negativos: -395.3\n"
          ]
        }
      ]
    },
    {
      "cell_type": "code",
      "source": [
        "#Programa para inserir senhas e verificar se ela é correta ou incorreta, com 5 tentativas permitidas, após o que ela é bloqueada.\n",
        "MAX_TENTATIVAS = 5\n",
        "senha_digitada = input('Digite a senha:')\n",
        "contador = 0\n",
        "while senha_digitada != '561762AAAaaa@' and contador < MAX_TENTATIVAS:\n",
        "  print('Senha incorreta')\n",
        "  contador = contador + 1\n",
        "  senha_digitada = input('Digite outra senha: ')\n",
        "if contador < MAX_TENTATIVAS:\n",
        "  print('Acesso permitido')\n",
        "else:\n",
        "  print('Acesso bloqueado')\n",
        "\n"
      ],
      "metadata": {
        "colab": {
          "base_uri": "https://localhost:8080/"
        },
        "id": "Du8uSFjIWaNB",
        "outputId": "53213502-dc9c-472f-a684-a6b93a41d61d"
      },
      "execution_count": null,
      "outputs": [
        {
          "output_type": "stream",
          "name": "stdout",
          "text": [
            "Digite a senha:523653aaaAAA\n",
            "Senha incorreta\n",
            "Digite outra senha: 561762AAAaaa\n",
            "Senha incorreta\n",
            "Digite outra senha: 561762Aa*\n",
            "Senha incorreta\n",
            "Digite outra senha: 561762Aa@\n",
            "Senha incorreta\n",
            "Digite outra senha: 561762AAAaaa@\n",
            "Acesso permitido\n"
          ]
        }
      ]
    },
    {
      "cell_type": "code",
      "source": [
        "#Enquanto não for digitado o número 3.1415 (pi com quatro casas decimais), imprimir o cosseno de cada número\n",
        "import math\n",
        "num = input('Digite o número: ')\n",
        "while num != '3.1415':\n",
        "  num = float(num)\n",
        "  print('Cosseno =', math.cos(num))\n",
        "  num = input('Digite o número: ')\n",
        "\n"
      ],
      "metadata": {
        "colab": {
          "base_uri": "https://localhost:8080/"
        },
        "id": "5Esy9dbuZWXh",
        "outputId": "4d45fd61-9af8-40f6-df0b-cafcd05e147a"
      },
      "execution_count": null,
      "outputs": [
        {
          "name": "stdout",
          "output_type": "stream",
          "text": [
            "Digite o número: 2.5\n",
            "Cosseno = -0.8011436155469337\n",
            "Digite o número: 3.6\n",
            "Cosseno = -0.896758416334147\n",
            "Digite o número: 5\n",
            "Cosseno = 0.28366218546322625\n",
            "Digite o número: 3.1415\n"
          ]
        }
      ]
    },
    {
      "cell_type": "code",
      "source": [
        "#Calcular e imprimir a soma dos números pares entre 100 e 200 usando o comando while ao invés do for\n",
        "soma = 0\n",
        "i = 100\n",
        "while i <= 200:\n",
        "  if i % 2 == 0:\n",
        "    soma = soma + i\n",
        "  i = i + 2\n",
        "print('Soma =', soma)"
      ],
      "metadata": {
        "colab": {
          "base_uri": "https://localhost:8080/"
        },
        "id": "HDpe4tooe_3N",
        "outputId": "1116605e-ab66-43c1-e33c-b8df7e55f100"
      },
      "execution_count": null,
      "outputs": [
        {
          "output_type": "stream",
          "name": "stdout",
          "text": [
            "Soma = 7650\n"
          ]
        }
      ]
    },
    {
      "cell_type": "code",
      "source": [
        "#Imprimir os números inteiros positivos entre 0 e 10 (incluso)\n",
        "contador = 0\n",
        "while contador != 10:\n",
        "  contador += 1\n",
        "  print(contador)"
      ],
      "metadata": {
        "colab": {
          "base_uri": "https://localhost:8080/"
        },
        "id": "6jPShjVqf4B6",
        "outputId": "8c3bbb03-dc01-4008-ad7b-c67c4a492826"
      },
      "execution_count": null,
      "outputs": [
        {
          "output_type": "stream",
          "name": "stdout",
          "text": [
            "1\n",
            "2\n",
            "3\n",
            "4\n",
            "5\n",
            "6\n",
            "7\n",
            "8\n",
            "9\n",
            "10\n"
          ]
        }
      ]
    },
    {
      "cell_type": "code",
      "source": [
        "#Imprimir os números inteiros positivos entre 0 e 10 (não incluso)\n",
        "contador = 0\n",
        "while True:\n",
        "  print(contador)\n",
        "  contador += 1\n",
        "  if contador == 10:\n",
        "    break"
      ],
      "metadata": {
        "colab": {
          "base_uri": "https://localhost:8080/"
        },
        "id": "jCrI1Qn_hQW0",
        "outputId": "bf6060f3-9205-4b8d-871b-ef670d35b7ab"
      },
      "execution_count": null,
      "outputs": [
        {
          "output_type": "stream",
          "name": "stdout",
          "text": [
            "0\n",
            "1\n",
            "2\n",
            "3\n",
            "4\n",
            "5\n",
            "6\n",
            "7\n",
            "8\n",
            "9\n"
          ]
        }
      ]
    },
    {
      "cell_type": "code",
      "source": [
        "#Imprimir os números de 0 a 10, com exceção do 5 e do 7\n",
        "for i in range(11):\n",
        "  if i == 5 or i == 7:\n",
        "    continue\n",
        "  print(i)"
      ],
      "metadata": {
        "colab": {
          "base_uri": "https://localhost:8080/"
        },
        "id": "_OwTXuHshew8",
        "outputId": "6b50fce8-6723-4d7c-9b39-d906860a67ba"
      },
      "execution_count": null,
      "outputs": [
        {
          "output_type": "stream",
          "name": "stdout",
          "text": [
            "0\n",
            "1\n",
            "2\n",
            "3\n",
            "4\n",
            "6\n",
            "8\n",
            "9\n",
            "10\n"
          ]
        }
      ]
    },
    {
      "cell_type": "code",
      "source": [
        "#Para chamar uma função é necessário definí-la primeiro\n",
        "def NovaLinha():\n",
        "  print\n",
        "\n",
        "print('Primeira Linha')\n",
        "NovaLinha()\n",
        "print('Segunda Linha')\n",
        "NovaLinha()\n",
        "print('Terceira Linha')\n"
      ],
      "metadata": {
        "colab": {
          "base_uri": "https://localhost:8080/"
        },
        "id": "NM-qmy7kh49x",
        "outputId": "5170c465-e256-461b-ce8c-d7eb20235c3e"
      },
      "execution_count": null,
      "outputs": [
        {
          "output_type": "stream",
          "name": "stdout",
          "text": [
            "Primeira Linha\n",
            "Segunda Linha\n",
            "Terceira Linha\n"
          ]
        }
      ]
    },
    {
      "cell_type": "code",
      "source": [
        "#Importando todas as funções (necessário inserir o asterisco) da biblioteca math\n",
        "from math import *\n",
        "\n",
        "def ImprimeLogaritmo(x):\n",
        "  if x <= 0:\n",
        "    print(\"Somente números positivos.\")\n",
        "    return\n",
        "  resultado = log(x)\n",
        "  print(\"Logaritmo de\", x, \"=\", resultado)\n",
        "\n",
        "ImprimeLogaritmo(0.45)"
      ],
      "metadata": {
        "colab": {
          "base_uri": "https://localhost:8080/"
        },
        "id": "CWUB1iH5kNFD",
        "outputId": "fd0c33ac-5738-449d-9aa3-7b4051cf1907"
      },
      "execution_count": null,
      "outputs": [
        {
          "output_type": "stream",
          "name": "stdout",
          "text": [
            "Logaritmo de 0.45 = -0.7985076962177716\n"
          ]
        }
      ]
    },
    {
      "cell_type": "code",
      "source": [
        "def maior(a, b, c):\n",
        "  if a>b and a>c:\n",
        "    ret = a\n",
        "  elif b>a and b>c:\n",
        "    ret = b\n",
        "  else:\n",
        "    ret = c\n",
        "  return ret\n",
        "\n",
        "print(maior(10,25,36))"
      ],
      "metadata": {
        "colab": {
          "base_uri": "https://localhost:8080/"
        },
        "id": "kKFWyV0umEy9",
        "outputId": "8ad871cf-d43a-47a0-ea8c-ea2fc9ba9959"
      },
      "execution_count": null,
      "outputs": [
        {
          "output_type": "stream",
          "name": "stdout",
          "text": [
            "36\n"
          ]
        }
      ]
    },
    {
      "cell_type": "code",
      "source": [
        "def fatorial(n):\n",
        "  fat = 1\n",
        "  for i in range(n):\n",
        "    fat = fat * (i+1)\n",
        "  return fat\n",
        "\n",
        "print(fatorial(5))\n"
      ],
      "metadata": {
        "colab": {
          "base_uri": "https://localhost:8080/"
        },
        "id": "xBRWwgzIpcRJ",
        "outputId": "a0d3b494-86c7-409f-d56a-ed77d220caca"
      },
      "execution_count": null,
      "outputs": [
        {
          "output_type": "stream",
          "name": "stdout",
          "text": [
            "120\n"
          ]
        }
      ]
    },
    {
      "cell_type": "code",
      "source": [
        "def pontos(velocidade):\n",
        "  if velocidade <=70:\n",
        "    print('Ok')\n",
        "  else:\n",
        "    p = 2 * ((velocidade-70))//5\n",
        "    print('Pontos:', p)\n",
        "    if p>20:\n",
        "      print(\"Licença suspensa\")\n",
        "\n",
        "pontos(123)\n"
      ],
      "metadata": {
        "colab": {
          "base_uri": "https://localhost:8080/"
        },
        "id": "dkqkNBgBqm1o",
        "outputId": "6fe5dc93-c1aa-4fa4-9366-5babb2130153"
      },
      "execution_count": null,
      "outputs": [
        {
          "output_type": "stream",
          "name": "stdout",
          "text": [
            "Pontos: 21\n",
            "Licença suspensa\n"
          ]
        }
      ]
    },
    {
      "cell_type": "code",
      "source": [
        "def lista():\n",
        "  In[191]: lista(range(1,5))\n",
        "  Out[191]: [1, 2, 3, 4]\n",
        "print(lista)\n",
        "print(191)"
      ],
      "metadata": {
        "colab": {
          "base_uri": "https://localhost:8080/"
        },
        "id": "-VmQLh_UtgEL",
        "outputId": "0275ed66-e2c0-48a6-f577-eae88053ba52"
      },
      "execution_count": null,
      "outputs": [
        {
          "output_type": "stream",
          "name": "stdout",
          "text": [
            "<function lista at 0x7dcf7a2bf9a0>\n",
            "191\n"
          ]
        }
      ]
    },
    {
      "cell_type": "code",
      "source": [
        "numeros = [1, 3, 6, 4]\n",
        "for i in range(len(numeros)):\n",
        "    numeros[i] = numeros[i] * 2\n",
        "print(numeros)\n"
      ],
      "metadata": {
        "colab": {
          "base_uri": "https://localhost:8080/"
        },
        "id": "3sncDz7rxfh9",
        "outputId": "50abc26e-ebf8-4677-fce0-630d2c91bd72"
      },
      "execution_count": null,
      "outputs": [
        {
          "output_type": "stream",
          "name": "stdout",
          "text": [
            "[2, 6, 12, 8]\n"
          ]
        }
      ]
    },
    {
      "cell_type": "code",
      "source": [
        "lista = ['sp', 1, ['1', 'casa','2'], [20,14,15,23]]\n",
        "print(lista[2])\n",
        "print(len(lista))\n",
        "print(len(lista[2]))\n",
        "print(len(lista[3]))"
      ],
      "metadata": {
        "colab": {
          "base_uri": "https://localhost:8080/"
        },
        "id": "y580Lf6_zVX4",
        "outputId": "702d9eb8-22ca-41e3-a291-e59f6648ff2f"
      },
      "execution_count": null,
      "outputs": [
        {
          "output_type": "stream",
          "name": "stdout",
          "text": [
            "['1', 'casa', '2']\n",
            "4\n",
            "3\n",
            "4\n"
          ]
        }
      ]
    },
    {
      "cell_type": "code",
      "source": [
        "#Concatenação de listas\n",
        "a = [1,2,3,4,5]\n",
        "b = [6,7,8,9,10]\n",
        "c = a + b\n",
        "print(c)"
      ],
      "metadata": {
        "colab": {
          "base_uri": "https://localhost:8080/"
        },
        "id": "vhE2e28U0dsM",
        "outputId": "d15ed2a5-dee2-4799-bc71-fb45ec92dad2"
      },
      "execution_count": null,
      "outputs": [
        {
          "output_type": "stream",
          "name": "stdout",
          "text": [
            "[1, 2, 3, 4, 5, 6, 7, 8, 9, 10]\n"
          ]
        }
      ]
    },
    {
      "cell_type": "code",
      "source": [
        "#O operador * repete a lista um número dado de vezes\n",
        "[1]*5\n",
        "[1,2,3]*5\n",
        "['ab','cd',45]*3\n"
      ],
      "metadata": {
        "colab": {
          "base_uri": "https://localhost:8080/"
        },
        "id": "UKb8jedO0j-b",
        "outputId": "c8397803-ee4c-448d-9a75-0c6bd14f154a"
      },
      "execution_count": null,
      "outputs": [
        {
          "output_type": "execute_result",
          "data": {
            "text/plain": [
              "['ab', 'cd', 45, 'ab', 'cd', 45, 'ab', 'cd', 45]"
            ]
          },
          "metadata": {},
          "execution_count": 80
        }
      ]
    },
    {
      "cell_type": "code",
      "source": [
        "lista = [1,2,3,4,5,6]\n",
        "lista[1:3]\n"
      ],
      "metadata": {
        "colab": {
          "base_uri": "https://localhost:8080/"
        },
        "id": "cHNP-uqS09uk",
        "outputId": "705deb99-0557-4077-ad2d-4b005abedd3a"
      },
      "execution_count": null,
      "outputs": [
        {
          "output_type": "execute_result",
          "data": {
            "text/plain": [
              "[2, 3]"
            ]
          },
          "metadata": {},
          "execution_count": 81
        }
      ]
    },
    {
      "cell_type": "code",
      "source": [
        "#Reordenando em ordem crescente minha lista\n",
        "t = ['25','54','2','36','a','b','cebola','trovão','carro','casa']\n",
        "t.sort()\n",
        "print(t)\n",
        "\n",
        "t = [25,54,2,36,'a','b','cebola','trovão','carro','casa']\n",
        "# Converter todos os elementos para strings\n",
        "t = [str(x) for x in t]\n",
        "# Ordenar a lista\n",
        "t.sort()\n",
        "print(t)\n",
        "Conclusão: duas formas pra produzir exatamente o mesmo resultado"
      ],
      "metadata": {
        "colab": {
          "base_uri": "https://localhost:8080/"
        },
        "id": "c-cX_Kg109pj",
        "outputId": "82ab725c-f176-48a7-8189-2c348296097f"
      },
      "execution_count": null,
      "outputs": [
        {
          "output_type": "stream",
          "name": "stdout",
          "text": [
            "['2', '25', '36', '54', 'a', 'b', 'carro', 'casa', 'cebola', 'trovão']\n",
            "['2', '25', '36', '54', 'a', 'b', 'carro', 'casa', 'cebola', 'trovão']\n"
          ]
        }
      ]
    },
    {
      "cell_type": "code",
      "source": [
        "def publicar_todos(t):\n",
        "  res = [t]\n",
        "  for s in t:\n",
        "    res.append(s*2)\n",
        "  return res\n",
        "\n",
        "print(publicar_todos([2,3,4,5,6,7]))\n",
        "\n"
      ],
      "metadata": {
        "colab": {
          "base_uri": "https://localhost:8080/"
        },
        "id": "akm-pP7uIqKQ",
        "outputId": "70d6d29d-7b2f-4a0e-fb40-b40aeae85b45"
      },
      "execution_count": null,
      "outputs": [
        {
          "output_type": "stream",
          "name": "stdout",
          "text": [
            "[[2, 3, 4, 5, 6, 7], 4, 6, 8, 10, 12, 14]\n"
          ]
        }
      ]
    },
    {
      "cell_type": "code",
      "source": [
        "def dobre(x):\n",
        "  return 2*x\n",
        "list(map(dobre, [2,3,4,5,6,7]))\n"
      ],
      "metadata": {
        "colab": {
          "base_uri": "https://localhost:8080/"
        },
        "id": "6O8n79rqLLlO",
        "outputId": "6702090e-a462-4f4e-be42-43fc39e43ae5"
      },
      "execution_count": null,
      "outputs": [
        {
          "output_type": "execute_result",
          "data": {
            "text/plain": [
              "[4, 6, 8, 10, 12, 14]"
            ]
          },
          "metadata": {},
          "execution_count": 86
        }
      ]
    },
    {
      "cell_type": "code",
      "source": [
        "#Definindo uma função para filtrar apenas os números pares na minha lista\n",
        "def eh_par(x):\n",
        "  return x % 2 == 0\n",
        "list(filter(eh_par, [2,3,4,5,6,7,25,36,45,21,20]))\n"
      ],
      "metadata": {
        "colab": {
          "base_uri": "https://localhost:8080/"
        },
        "id": "Otp0iYJyMSAT",
        "outputId": "42552cfd-48e8-4353-fcde-4f4f5e17878e"
      },
      "execution_count": null,
      "outputs": [
        {
          "output_type": "execute_result",
          "data": {
            "text/plain": [
              "[2, 4, 6, 36, 20]"
            ]
          },
          "metadata": {},
          "execution_count": 88
        }
      ]
    },
    {
      "cell_type": "code",
      "source": [
        "#Removendo um elemento da lista\n",
        "t = ['2','52','dado','orelha ']\n",
        "x = t.pop(1)\n",
        "print('t=',t)\n",
        "print('x=',x)\n",
        "\n",
        "del t[2]\n",
        "print('t=',t)\n",
        "\n",
        "t.remove('2')\n",
        "print('t=',t)\n",
        "\n",
        "t = ['a','b','c','d','e']\n",
        "del t[1:4]\n",
        "print('t=',t)"
      ],
      "metadata": {
        "colab": {
          "base_uri": "https://localhost:8080/"
        },
        "id": "0A2j4DXVNMYR",
        "outputId": "c00ef91e-49eb-48d5-e406-845a5718f662"
      },
      "execution_count": null,
      "outputs": [
        {
          "output_type": "stream",
          "name": "stdout",
          "text": [
            "t= ['2', 'dado', 'orelha ']\n",
            "x= 52\n",
            "t= ['2', 'dado']\n",
            "t= ['dado']\n",
            "t= ['a', 'e']\n"
          ]
        }
      ]
    },
    {
      "cell_type": "code",
      "source": [
        "#Adicionar um elemento na minha lista\n",
        "t1 = [1,2]\n",
        "t2 = t1.append(3)\n",
        "print('t1=',t1)\n",
        "print('t2=',t2)\n",
        "\n",
        "t1 = [1,2]\n",
        "t3 = t1 + [3]\n",
        "print('t1=',t1)\n",
        "print('t3=',t3)"
      ],
      "metadata": {
        "colab": {
          "base_uri": "https://localhost:8080/"
        },
        "id": "yViyP_IqOZis",
        "outputId": "f1f1095e-0566-4037-fea2-fdd1c3320930"
      },
      "execution_count": null,
      "outputs": [
        {
          "output_type": "stream",
          "name": "stdout",
          "text": [
            "t1= [1, 2, 3]\n",
            "t2= None\n",
            "t1= [1, 2]\n",
            "t3= [1, 2, 3]\n"
          ]
        }
      ]
    },
    {
      "cell_type": "code",
      "source": [
        "#Definindo conjuntos matemáticos = List Comprehensions\n",
        "S = [x**2 for x in range(10)]\n",
        "V = [2**x for x in range(13)]\n",
        "M = [x for x in S if x % 2 == 0]\n",
        "print('S=',S)\n",
        "print('V=',V)\n",
        "print('M=',M)"
      ],
      "metadata": {
        "colab": {
          "base_uri": "https://localhost:8080/"
        },
        "id": "eUIHl2ojQVEt",
        "outputId": "2bba22ac-2275-4602-b332-bc753a6ba681"
      },
      "execution_count": null,
      "outputs": [
        {
          "output_type": "stream",
          "name": "stdout",
          "text": [
            "S= [0, 1, 4, 9, 16, 25, 36, 49, 64, 81]\n",
            "V= [1, 2, 4, 8, 16, 32, 64, 128, 256, 512, 1024, 2048, 4096]\n",
            "M= [0, 4, 16, 36, 64]\n"
          ]
        }
      ]
    },
    {
      "cell_type": "code",
      "source": [
        "#Ler inteiros diferentes de 0, incluí-los numa lista, e encerrar a sequência quando o número lido for 0\n",
        "L =  list ()\n",
        "valor = int(input('Digite um valor:'))\n",
        "while valor != 0:\n",
        "  L.append(valor)\n",
        "  valor = int(input('Digite um valor:'))\n",
        "print(L)"
      ],
      "metadata": {
        "id": "3cCiToLURV76",
        "colab": {
          "base_uri": "https://localhost:8080/"
        },
        "outputId": "7b4f8ffe-bb61-4974-966d-4bc5f35a0c42"
      },
      "execution_count": null,
      "outputs": [
        {
          "output_type": "stream",
          "name": "stdout",
          "text": [
            "Digite um valor:20\n",
            "Digite um valor:23\n",
            "Digite um valor:525\n",
            "Digite um valor:84\n",
            "Digite um valor:32\n",
            "Digite um valor:65\n",
            "Digite um valor:41\n",
            "Digite um valor:0\n",
            "[20, 23, 525, 84, 32, 65, 41]\n"
          ]
        }
      ]
    },
    {
      "cell_type": "code",
      "source": [
        "#Ler um vetor de N números reais e mostrá-los na ordem inversa. O valor de N deve ser informado pelo cliente.\n",
        "N = int(input('Digite o número de elementos do vetor:'))\n",
        "l = []\n",
        "for i in range(N):\n",
        "  valor = float(input('Digite um valor:'))\n",
        "  l.append(valor)\n",
        "l.reverse()\n",
        "print(l)"
      ],
      "metadata": {
        "colab": {
          "base_uri": "https://localhost:8080/"
        },
        "id": "eX7jAZXhdWpO",
        "outputId": "89431e74-4efc-4358-e325-22db9226920a"
      },
      "execution_count": null,
      "outputs": [
        {
          "output_type": "stream",
          "name": "stdout",
          "text": [
            "Digite o número de elementos do vetor:10\n",
            "Digite um valor:12\n",
            "Digite um valor:25\n",
            "Digite um valor:52\n",
            "Digite um valor:36\n",
            "Digite um valor:41\n",
            "Digite um valor:12\n",
            "Digite um valor:58\n",
            "Digite um valor:14\n",
            "Digite um valor:45\n",
            "Digite um valor:37\n",
            "[37.0, 45.0, 14.0, 58.0, 12.0, 41.0, 36.0, 52.0, 25.0, 12.0]\n"
          ]
        }
      ]
    },
    {
      "cell_type": "code",
      "source": [
        "#Ler um vetor de N números reais e mostrá-los na ordem inversa. O valor de N deve ser informado pelo cliente.\n",
        "N = int(input('Digite o número de elementos do vetor:'))\n",
        "l = []\n",
        "for i in range(N):\n",
        "  x = float(input('Digite um valor:'))\n",
        "  l.append(x)\n",
        "for i in range(N-1, -1, -1):\n",
        "  print(l[i])\n",
        "print(l[i])"
      ],
      "metadata": {
        "colab": {
          "base_uri": "https://localhost:8080/"
        },
        "id": "cn0aYEUWfDbu",
        "outputId": "731225a5-df05-4ecf-be02-8a9c167afd8e"
      },
      "execution_count": null,
      "outputs": [
        {
          "output_type": "stream",
          "name": "stdout",
          "text": [
            "Digite o número de elementos do vetor:5\n",
            "Digite um valor:12\n",
            "Digite um valor:45\n",
            "Digite um valor:41\n",
            "Digite um valor:26\n",
            "Digite um valor:97\n",
            "97.0\n",
            "26.0\n",
            "41.0\n",
            "45.0\n",
            "12.0\n",
            "12.0\n"
          ]
        }
      ]
    },
    {
      "cell_type": "code",
      "source": [
        "#Ler um vetor de N números reais e mostrá-los na ordem inversa. O valor de N deve ser informado pelo cliente.\n",
        "N = int(input('Digite o número de elementos do vetor:'))\n",
        "l = []\n",
        "for i in range(N):\n",
        "  x = float(input('Digite um valor:'))\n",
        "  l.append(x)\n",
        "for i in range(len(l)):\n",
        "  print(l[len(l)-1-i])\n"
      ],
      "metadata": {
        "colab": {
          "base_uri": "https://localhost:8080/"
        },
        "id": "g_-ACppvfrLN",
        "outputId": "418ff118-2617-4aa0-cae6-19b1942a094c"
      },
      "execution_count": null,
      "outputs": [
        {
          "output_type": "stream",
          "name": "stdout",
          "text": [
            "Digite o número de elementos do vetor:5\n",
            "Digite um valor:12\n",
            "Digite um valor:35\n",
            "Digite um valor:12\n",
            "Digite um valor:47\n",
            "Digite um valor:85\n",
            "85.0\n",
            "47.0\n",
            "12.0\n",
            "35.0\n",
            "12.0\n"
          ]
        }
      ]
    },
    {
      "cell_type": "code",
      "source": [
        "#Ler números inteiros, separando-os em duas listas, uma de números pares e outra de números ímpares. O laço só para quando o usuário digita 0.\n",
        "par = list()\n",
        "impar = list()\n",
        "num = int(input('Digite um número:'))\n",
        "while num != 0:\n",
        "  if num % 2 == 0:\n",
        "    par.append(num)\n",
        "  else:\n",
        "    impar.append(num)\n",
        "  num = int(input('Digite um número:'))\n",
        "print('Números pares:', par)\n",
        "print('Números ímpares:', impar)"
      ],
      "metadata": {
        "colab": {
          "base_uri": "https://localhost:8080/"
        },
        "id": "11uHXGJ5hMUB",
        "outputId": "ecd7bdfb-8e1f-4979-b58c-ce1fe17b3c80"
      },
      "execution_count": null,
      "outputs": [
        {
          "output_type": "stream",
          "name": "stdout",
          "text": [
            "Digite um número:10\n",
            "Digite um número:52\n",
            "Digite um número:35\n",
            "Digite um número:17\n",
            "Digite um número:18\n",
            "Digite um número:2\n",
            "Digite um número:25\n",
            "Digite um número:41\n",
            "Digite um número:89\n",
            "Digite um número:41\n",
            "Digite um número:12\n",
            "Digite um número:36\n",
            "Digite um número:12\n",
            "Digite um número:41\n",
            "Digite um número:0\n",
            "Números pares: [10, 52, 18, 2, 12, 36, 12]\n",
            "Números ímpares: [35, 17, 25, 41, 89, 41, 41]\n"
          ]
        }
      ]
    },
    {
      "cell_type": "code",
      "source": [
        "#Ler as alturas e idades dos alunos e apresentar a soma das idades e das alturas dos alunos.\n",
        "N = int(input('Digite o número de alunos:'))\n",
        "soma_idades = 0\n",
        "soma_alturas = 0\n",
        "idades = []\n",
        "alturas = []\n",
        "\n",
        "for i in range(N):\n",
        "    print('Aluno número %d' % (i + 1))\n",
        "    idade = int(input('Digite a idade do aluno:'))\n",
        "    altura = float(input('Digite a altura do aluno:'))\n",
        "    idades.append(idade)\n",
        "    alturas.append(altura)\n",
        "    soma_idades += idade\n",
        "    soma_alturas += altura\n",
        "\n",
        "media_idades = soma_idades / N\n",
        "media_alturas = soma_alturas / N\n",
        "\n",
        "print('Média de idades:', media_idades)\n",
        "print('Média de alturas:', media_alturas)\n",
        "\n",
        "count = 0\n",
        "for i in range(N):\n",
        "    if alturas[i] < media_alturas and idades[i] > 13:\n",
        "        count += 1\n",
        "\n",
        "print('O número de alunos com mais de 13 anos e altura inferior à média é:', count)\n"
      ],
      "metadata": {
        "colab": {
          "base_uri": "https://localhost:8080/"
        },
        "id": "vrXP3QFCh5sV",
        "outputId": "d105d805-8fe5-4452-ccf5-3c830a2b613c"
      },
      "execution_count": null,
      "outputs": [
        {
          "output_type": "stream",
          "name": "stdout",
          "text": [
            "Digite o número de alunos:5\n",
            "Aluno número 1\n",
            "Digite a idade do aluno:12\n",
            "Digite a altura do aluno:1.5\n",
            "Aluno número 2\n",
            "Digite a idade do aluno:14\n",
            "Digite a altura do aluno:1.6\n",
            "Aluno número 3\n",
            "Digite a idade do aluno:15\n",
            "Digite a altura do aluno:1.52\n",
            "Aluno número 4\n",
            "Digite a idade do aluno:17\n",
            "Digite a altura do aluno:1.53\n",
            "Aluno número 5\n",
            "Digite a idade do aluno:13\n",
            "Digite a altura do aluno:1.48\n",
            "Média de idades: 14.2\n",
            "Média de alturas: 1.5260000000000002\n",
            "O número de alunos com mais de 13 anos e altura inferior à média é: 1\n"
          ]
        }
      ]
    },
    {
      "cell_type": "code",
      "source": [
        "#Encontrando elemento(s) em comum em duas listas e apresentando isto na tela\n",
        "l1 = [12, 41, 52, 23, 63, 54, 87]\n",
        "l2 = [ 12,52, 84, 75, 63, 54]\n",
        "\n",
        "ha_comum = False\n",
        "for a in l1:\n",
        "  for b in l2:\n",
        "    if a == b:\n",
        "      ha_comum = True\n",
        "if ha_comum:\n",
        "  print('Há elementos em comum')\n",
        "else:\n",
        "  print('Não há elementos em comum')\n",
        "\n"
      ],
      "metadata": {
        "colab": {
          "base_uri": "https://localhost:8080/"
        },
        "id": "9us8iYiRlh04",
        "outputId": "f6e2c3f0-7b06-415a-e8a0-74cf56195e24"
      },
      "execution_count": null,
      "outputs": [
        {
          "output_type": "stream",
          "name": "stdout",
          "text": [
            "Há elementos em comum\n"
          ]
        }
      ]
    },
    {
      "cell_type": "code",
      "source": [
        "#Ler duas listas e intercalar seus elementos\n",
        "L1 = [12,52,63,87]\n",
        "L2 = [15,87,95,52]\n",
        "\n",
        "res = list()\n",
        "for i in range(len(L1)):\n",
        "  res.append(L1[i])\n",
        "  res.append(L2[i])\n",
        "print(res)\n"
      ],
      "metadata": {
        "colab": {
          "base_uri": "https://localhost:8080/"
        },
        "id": "k_dSsn6EnMNy",
        "outputId": "879af6a7-74e5-4659-90a8-593cdab02c9c"
      },
      "execution_count": null,
      "outputs": [
        {
          "output_type": "stream",
          "name": "stdout",
          "text": [
            "[12, 15, 52, 87, 63, 95, 87, 52]\n"
          ]
        }
      ]
    },
    {
      "cell_type": "code",
      "source": [
        "fruit = 'banana'\n",
        "letter = fruit[1]\n",
        "print(letter)\n",
        "print(len(fruit))\n",
        "last = fruit[len(fruit)-1]\n",
        "print(last)\n",
        "index = 0\n",
        "while index < len(fruit):\n",
        "  letter = fruit[index]\n",
        "  print(letter)\n",
        "  index = index + 1"
      ],
      "metadata": {
        "colab": {
          "base_uri": "https://localhost:8080/"
        },
        "id": "IDEEh2y4oEDP",
        "outputId": "514520b1-6eb9-401f-a0e6-ab75a5ba43d2"
      },
      "execution_count": null,
      "outputs": [
        {
          "output_type": "stream",
          "name": "stdout",
          "text": [
            "a\n",
            "6\n",
            "a\n",
            "b\n",
            "a\n",
            "n\n",
            "a\n",
            "n\n",
            "a\n"
          ]
        }
      ]
    },
    {
      "cell_type": "code",
      "source": [
        "#Outra forma mais simples para imprimir todos os caracteres de uma string\n",
        "fruit = 'banana'\n",
        "for letter in fruit:\n",
        "  print(letter)\n",
        "for char in fruit:\n",
        "  print(char)"
      ],
      "metadata": {
        "colab": {
          "base_uri": "https://localhost:8080/"
        },
        "id": "j4N8Zw5spq0a",
        "outputId": "10cb7be3-a3e4-4185-f032-07a935fca8a5"
      },
      "execution_count": null,
      "outputs": [
        {
          "output_type": "stream",
          "name": "stdout",
          "text": [
            "b\n",
            "a\n",
            "n\n",
            "a\n",
            "n\n",
            "a\n",
            "b\n",
            "a\n",
            "n\n",
            "a\n",
            "n\n",
            "a\n"
          ]
        }
      ]
    },
    {
      "cell_type": "code",
      "source": [
        "#Fatiando um string\n",
        "s = 'Monty Python'\n",
        "print(s[0:5])\n",
        "print(s[6:12])\n"
      ],
      "metadata": {
        "colab": {
          "base_uri": "https://localhost:8080/"
        },
        "id": "CJH3O5PVqIwp",
        "outputId": "12ded7a4-42a8-44ea-98fc-b53d46c07e09"
      },
      "execution_count": null,
      "outputs": [
        {
          "output_type": "stream",
          "name": "stdout",
          "text": [
            "Monty\n",
            "Python\n"
          ]
        }
      ]
    },
    {
      "cell_type": "code",
      "source": [
        "fruit = 'banana'\n",
        "'n' in fruit\n",
        "'m' in fruit\n",
        "'nan' in fruit\n",
        "if 'a' in fruit:\n",
        "  print('Found it!')\n",
        "fruit[:3]\n",
        "fruit[3:]"
      ],
      "metadata": {
        "colab": {
          "base_uri": "https://localhost:8080/",
          "height": 53
        },
        "id": "Ru12Auurql7_",
        "outputId": "b104f9f3-c91e-492f-e3ac-3522e5e4be0d"
      },
      "execution_count": null,
      "outputs": [
        {
          "output_type": "stream",
          "name": "stdout",
          "text": [
            "Found it!\n"
          ]
        },
        {
          "output_type": "execute_result",
          "data": {
            "text/plain": [
              "'ana'"
            ],
            "application/vnd.google.colaboratory.intrinsic+json": {
              "type": "string"
            }
          },
          "metadata": {},
          "execution_count": 25
        }
      ]
    },
    {
      "cell_type": "code",
      "source": [
        "fruit[1:1]\n",
        "fruit[2:2]\n",
        "fruit[3:3]\n",
        "fruit[4:4]\n",
        "fruit[5:5]\n",
        "fruit[6:6]\n",
        "fruit[0:6]\n",
        "fruit[:]\n"
      ],
      "metadata": {
        "colab": {
          "base_uri": "https://localhost:8080/",
          "height": 35
        },
        "id": "oI7lH7UEq0hB",
        "outputId": "25ac01c5-81c7-4244-ef62-688772076b70"
      },
      "execution_count": null,
      "outputs": [
        {
          "output_type": "execute_result",
          "data": {
            "text/plain": [
              "'banana'"
            ],
            "application/vnd.google.colaboratory.intrinsic+json": {
              "type": "string"
            }
          },
          "metadata": {},
          "execution_count": 29
        }
      ]
    },
    {
      "cell_type": "code",
      "source": [
        "#\"modificando\" uma string; na verdade, criamos outra string com algum(ns) elemento(s) diferente(s)\n",
        "greeting = 'Hello, world!'\n",
        "new_greeting = 'J' + greeting[1:]\n",
        "print(new_greeting)"
      ],
      "metadata": {
        "colab": {
          "base_uri": "https://localhost:8080/"
        },
        "id": "vaiBy5WNrQGG",
        "outputId": "9833b142-4408-4674-9a3a-433338f92908"
      },
      "execution_count": null,
      "outputs": [
        {
          "output_type": "stream",
          "name": "stdout",
          "text": [
            "Jello, world!\n"
          ]
        }
      ]
    },
    {
      "cell_type": "code",
      "source": [
        "#Encontrando caracter(es) em uma string\n",
        "def find(word, letter, start=0):\n",
        "  index = start\n",
        "  while index < len(word):\n",
        "    if word[index] == letter:\n",
        "      return index\n",
        "    index = index + 1\n",
        "  return -1\n",
        "\n",
        "find('banana', 'na')\n",
        "find('banana', 'na', 3)\n"
      ],
      "metadata": {
        "colab": {
          "base_uri": "https://localhost:8080/"
        },
        "id": "SrjS_Rn2sqdw",
        "outputId": "eda607ef-dbf5-49d6-aa27-b5ba0721f1bb"
      },
      "execution_count": null,
      "outputs": [
        {
          "output_type": "execute_result",
          "data": {
            "text/plain": [
              "-1"
            ]
          },
          "metadata": {},
          "execution_count": 32
        }
      ]
    },
    {
      "cell_type": "code",
      "source": [
        "def count_char(word, letter):\n",
        "  count = 0\n",
        "  for char in word:\n",
        "    if char == letter:\n",
        "      count = count + 1\n",
        "  return count\n",
        "\n",
        "count_char('banana', 'a')"
      ],
      "metadata": {
        "colab": {
          "base_uri": "https://localhost:8080/"
        },
        "id": "UlX3icKKs9hZ",
        "outputId": "baa74eb6-516f-46bc-f077-e66cd03845b8"
      },
      "execution_count": null,
      "outputs": [
        {
          "output_type": "execute_result",
          "data": {
            "text/plain": [
              "3"
            ]
          },
          "metadata": {},
          "execution_count": 33
        }
      ]
    },
    {
      "cell_type": "code",
      "source": [
        "word = 'banana'\n",
        "new_word = word.upper()\n",
        "print(new_word)\n",
        "index = word.find('a')\n",
        "print(index)\n",
        "word.find('na')\n",
        "word.find('na', 3)"
      ],
      "metadata": {
        "colab": {
          "base_uri": "https://localhost:8080/"
        },
        "id": "72twoGZFuNii",
        "outputId": "12fff752-f172-427a-db6f-852700756b09"
      },
      "execution_count": null,
      "outputs": [
        {
          "output_type": "stream",
          "name": "stdout",
          "text": [
            "BANANA\n",
            "1\n"
          ]
        },
        {
          "output_type": "execute_result",
          "data": {
            "text/plain": [
              "4"
            ]
          },
          "metadata": {},
          "execution_count": 34
        }
      ]
    },
    {
      "cell_type": "code",
      "source": [
        "from string import *\n",
        "word = 'banana'\n",
        "word.find('na')\n"
      ],
      "metadata": {
        "colab": {
          "base_uri": "https://localhost:8080/"
        },
        "id": "PPIbHiDZvXeu",
        "outputId": "f6dac0fb-efd9-4c91-d6ab-ac99f774c27b"
      },
      "execution_count": null,
      "outputs": [
        {
          "output_type": "execute_result",
          "data": {
            "text/plain": [
              "2"
            ]
          },
          "metadata": {},
          "execution_count": 37
        }
      ]
    },
    {
      "cell_type": "code",
      "source": [
        "from string import *\n",
        "word = 'banana'\n",
        "word.find('na')\n",
        "new_word = word.replace('a', 'o')\n",
        "print(new_word)"
      ],
      "metadata": {
        "colab": {
          "base_uri": "https://localhost:8080/"
        },
        "id": "ZPXUy8WEvtB2",
        "outputId": "21cb4325-e27b-4b07-e4fc-d527fabbce9b"
      },
      "execution_count": null,
      "outputs": [
        {
          "output_type": "stream",
          "name": "stdout",
          "text": [
            "bonono\n"
          ]
        }
      ]
    },
    {
      "cell_type": "code",
      "source": [
        "word = 'banana na'\n",
        "word.find('na',5)\n"
      ],
      "metadata": {
        "colab": {
          "base_uri": "https://localhost:8080/"
        },
        "id": "zT9QY_lBvw99",
        "outputId": "1e44e7a6-0857-48f6-ce08-c724d5626910"
      },
      "execution_count": null,
      "outputs": [
        {
          "output_type": "execute_result",
          "data": {
            "text/plain": [
              "7"
            ]
          },
          "metadata": {},
          "execution_count": 39
        }
      ]
    },
    {
      "cell_type": "code",
      "source": [
        "word = 'bananak'\n",
        "word.find('k',0,5)\n",
        "#A resposta -1 indica que da posição 0 até a posição 5 não há a substring k na string bananak"
      ],
      "metadata": {
        "colab": {
          "base_uri": "https://localhost:8080/"
        },
        "id": "s50aLPZWwPsT",
        "outputId": "3b57a98e-b2b3-4303-cba6-8e9d5045c6e7"
      },
      "execution_count": null,
      "outputs": [
        {
          "output_type": "execute_result",
          "data": {
            "text/plain": [
              "-1"
            ]
          },
          "metadata": {},
          "execution_count": 40
        }
      ]
    },
    {
      "cell_type": "code",
      "source": [
        "'a' in 'banana'"
      ],
      "metadata": {
        "colab": {
          "base_uri": "https://localhost:8080/"
        },
        "id": "4OVMVNLxwygT",
        "outputId": "faa357a1-558c-42f7-915d-accc9559cf5c"
      },
      "execution_count": null,
      "outputs": [
        {
          "output_type": "execute_result",
          "data": {
            "text/plain": [
              "True"
            ]
          },
          "metadata": {},
          "execution_count": 41
        }
      ]
    },
    {
      "cell_type": "code",
      "source": [
        "#Imprimindo letras comuns em duas palavras\n",
        "def in_both(word1, word2):\n",
        "  for letter in word1:\n",
        "    if letter in word2:\n",
        "      print(letter)\n",
        "\n",
        "in_both('apples', 'oranges')"
      ],
      "metadata": {
        "colab": {
          "base_uri": "https://localhost:8080/"
        },
        "id": "f8RMBuTJxPFo",
        "outputId": "a33c0302-3e6d-4d30-d29a-6cc4cad9a568"
      },
      "execution_count": null,
      "outputs": [
        {
          "output_type": "stream",
          "name": "stdout",
          "text": [
            "a\n",
            "e\n",
            "s\n"
          ]
        }
      ]
    },
    {
      "cell_type": "code",
      "source": [
        "word = 'banana'\n",
        "if word == 'banana':\n",
        "  print('All right, bananas.')\n",
        "\n"
      ],
      "metadata": {
        "colab": {
          "base_uri": "https://localhost:8080/"
        },
        "id": "VYfIbKKnxlaA",
        "outputId": "5a55be5b-1f1b-4f08-ef83-b670b3dd7379"
      },
      "execution_count": null,
      "outputs": [
        {
          "output_type": "stream",
          "name": "stdout",
          "text": [
            "All right, bananas.\n"
          ]
        }
      ]
    },
    {
      "cell_type": "code",
      "source": [
        "#Comparando a ordem alfabética de strings\n",
        "word = 'Pineapple'\n",
        "if word < 'banana':\n",
        "  print('Your word,' + word + ', comes before banana.')\n",
        "elif word > 'banana':\n",
        "  print('Your word,' + word + ', comes after banana.')\n",
        "else:\n",
        "  print('All right, bananas.')"
      ],
      "metadata": {
        "colab": {
          "base_uri": "https://localhost:8080/"
        },
        "id": "oVFqv7W6yNRu",
        "outputId": "5051b72f-d1cf-4ca1-8b95-da239544decd"
      },
      "execution_count": null,
      "outputs": [
        {
          "output_type": "stream",
          "name": "stdout",
          "text": [
            "Your word,Pineapple, comes before banana.\n"
          ]
        }
      ]
    },
    {
      "cell_type": "code",
      "source": [],
      "metadata": {
        "id": "Oxmq8u7xyhe1"
      },
      "execution_count": null,
      "outputs": []
    }
  ]
}